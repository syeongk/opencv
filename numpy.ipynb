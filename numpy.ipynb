{
 "cells": [
  {
   "cell_type": "markdown",
   "id": "120e85be-c3c0-4ba4-90a7-1a669aac61ff",
   "metadata": {},
   "source": [
    "# 배열 만들기"
   ]
  },
  {
   "cell_type": "code",
   "execution_count": 18,
   "id": "67f6569f-9ac1-4160-b1ef-22542b618107",
   "metadata": {},
   "outputs": [
    {
     "data": {
      "text/plain": [
       "array([[208, 198, 227],\n",
       "       [ 53,  99, 108],\n",
       "       [ 93, 110, 245]])"
      ]
     },
     "execution_count": 18,
     "metadata": {},
     "output_type": "execute_result"
    }
   ],
   "source": [
    "import numpy as np, cv2\n",
    "\n",
    "a = np.array([[1,2,3,4],[5,6,7,8]]) #2행 4열 [] 하나는 행을 의미\n",
    "b = np.array([[1],[2],[3],[4]]) #4행 1열\n",
    "\n",
    "c = a.T #transpose, 4행 2열\n"
   ]
  },
  {
   "cell_type": "code",
   "execution_count": null,
   "id": "e138440c-3bc8-4301-9e01-0173b7e0fdbf",
   "metadata": {},
   "outputs": [],
   "source": [
    "a = np.zeros((2,3), np.uint8)\n",
    "b = np.full((2,3), 255, np.uint8)\n",
    "a.fill(255)"
   ]
  },
  {
   "cell_type": "code",
   "execution_count": null,
   "id": "22985b11-96e1-4c74-a859-43e0ecd867a0",
   "metadata": {},
   "outputs": [],
   "source": [
    "img = cv2.imread('images/read_color.jpg')\n",
    "a = np.zeros_like(img)"
   ]
  },
  {
   "cell_type": "code",
   "execution_count": 20,
   "id": "167e837e-4ad6-4d73-a727-37184f1c371e",
   "metadata": {},
   "outputs": [
    {
     "data": {
      "text/plain": [
       "array([0, 1, 2, 3, 4])"
      ]
     },
     "execution_count": 20,
     "metadata": {},
     "output_type": "execute_result"
    }
   ],
   "source": [
    "a = np.arange(5)\n",
    "b = np.arange(0,6,1)"
   ]
  },
  {
   "cell_type": "code",
   "execution_count": 21,
   "id": "7e2014e0-03d2-472f-8162-7d9d64a85ab1",
   "metadata": {},
   "outputs": [
    {
     "data": {
      "text/plain": [
       "array([[ 66, 208, 158],\n",
       "       [249, 242, 245],\n",
       "       [ 38, 129, 209]])"
      ]
     },
     "execution_count": 21,
     "metadata": {},
     "output_type": "execute_result"
    }
   ],
   "source": [
    "a = np.random.randint(0,256,(3,3))"
   ]
  },
  {
   "cell_type": "code",
   "execution_count": 33,
   "id": "63510e58-0ffc-4e7f-94fa-e241f94d22fd",
   "metadata": {},
   "outputs": [
    {
     "data": {
      "text/plain": [
       "array([0, 1, 2, 3, 4], dtype=uint8)"
      ]
     },
     "execution_count": 33,
     "metadata": {},
     "output_type": "execute_result"
    }
   ],
   "source": [
    "a = np.arange(5)\n",
    "b = a.astype(np.float64) #이 방법을 주로 씀\n",
    "c = np.uint8(a)"
   ]
  },
  {
   "cell_type": "markdown",
   "id": "a03175b8-98a5-481f-8e6f-768fbe46cdb2",
   "metadata": {},
   "source": [
    "# 차원 변경"
   ]
  },
  {
   "cell_type": "code",
   "execution_count": 39,
   "id": "8b7e19b9-a31f-4490-8d6b-ae78f480d8e5",
   "metadata": {},
   "outputs": [],
   "source": [
    "a = np.arange(6).reshape(2, 3)\n",
    "b = np.arange(100).reshape(-1, 5)"
   ]
  },
  {
   "cell_type": "code",
   "execution_count": 45,
   "id": "06d53fd7-f626-452d-b6d1-d49d1cf376f0",
   "metadata": {},
   "outputs": [
    {
     "data": {
      "text/plain": [
       "array([0, 0, 0, 0, 0, 0], dtype=uint8)"
      ]
     },
     "execution_count": 45,
     "metadata": {},
     "output_type": "execute_result"
    }
   ],
   "source": [
    "a = np.zeros((2,3), np.uint8)\n",
    "b = np.ravel(a)\n",
    "c = a.flatten()"
   ]
  },
  {
   "cell_type": "code",
   "execution_count": 54,
   "id": "994681d6-d6ca-43d0-bfb8-b4ec45b8f3be",
   "metadata": {},
   "outputs": [
    {
     "name": "stdout",
     "output_type": "stream",
     "text": [
      "[[ 0  1  2  3  4]\n",
      " [ 5  6  7  8  9]\n",
      " [10 11 12 13 14]\n",
      " [15 16 17 18 19]\n",
      " [20 21 22 23 24]\n",
      " [25 26 27 28 29]\n",
      " [30 31 32 33 34]\n",
      " [35 36 37 38 39]\n",
      " [40 41 42 43 44]\n",
      " [45 46 47 48 49]]\n"
     ]
    },
    {
     "data": {
      "text/plain": [
       "array([[False, False, False, False, False],\n",
       "       [False, False, False, False, False],\n",
       "       [False,  True,  True,  True,  True],\n",
       "       [ True,  True,  True,  True,  True],\n",
       "       [ True,  True,  True,  True,  True],\n",
       "       [ True,  True,  True,  True,  True],\n",
       "       [ True,  True,  True,  True,  True],\n",
       "       [ True,  True,  True,  True,  True],\n",
       "       [ True,  True,  True,  True,  True],\n",
       "       [ True,  True,  True,  True,  True]])"
      ]
     },
     "execution_count": 54,
     "metadata": {},
     "output_type": "execute_result"
    }
   ],
   "source": [
    "a = np.arange(5)\n",
    "a + 5\n",
    "\n",
    "b = np.arange(50).reshape(-1,5)\n",
    "b ** 2\n",
    "b > 10"
   ]
  },
  {
   "cell_type": "markdown",
   "id": "f157c296-3b9e-4b06-b738-23de743a833f",
   "metadata": {},
   "source": [
    "# 브로드캐스팅 연산"
   ]
  },
  {
   "cell_type": "code",
   "execution_count": 56,
   "id": "0b0e8788-9076-4eb0-a430-322d8294870b",
   "metadata": {},
   "outputs": [
    {
     "name": "stdout",
     "output_type": "stream",
     "text": [
      "[[[ 0  1  2  3]\n",
      "  [ 4  5  6  7]\n",
      "  [ 8  9 10 11]]\n",
      "\n",
      " [[12 13 14 15]\n",
      "  [16 17 18 19]\n",
      "  [20 21 22 23]]]\n",
      "[[ 0  1  2  3]\n",
      " [ 4  5  6  7]\n",
      " [ 8  9 10 11]]\n"
     ]
    },
    {
     "data": {
      "text/plain": [
       "array([[[ 0,  2,  4,  6],\n",
       "        [ 8, 10, 12, 14],\n",
       "        [16, 18, 20, 22]],\n",
       "\n",
       "       [[12, 14, 16, 18],\n",
       "        [20, 22, 24, 26],\n",
       "        [28, 30, 32, 34]]])"
      ]
     },
     "execution_count": 56,
     "metadata": {},
     "output_type": "execute_result"
    }
   ],
   "source": [
    "a = np.arange(24).reshape(2,3,4)\n",
    "b = np.arange(12).reshape(3,4)    #(3,4) --> (1,3,4) --> (2,3,4)\n",
    "\n",
    "print(a)\n",
    "print(b)\n",
    "\n",
    "a+b"
   ]
  },
  {
   "cell_type": "code",
   "execution_count": 59,
   "id": "e8b2c27e-a46a-488f-bc2c-970d2d44a0cf",
   "metadata": {},
   "outputs": [
    {
     "name": "stdout",
     "output_type": "stream",
     "text": [
      "[[[ 0  1  2  3]\n",
      "  [ 4  5  6  7]\n",
      "  [ 8  9 10 11]]\n",
      "\n",
      " [[12 13 14 15]\n",
      "  [16 17 18 19]\n",
      "  [20 21 22 23]]]\n",
      "[[0]\n",
      " [1]\n",
      " [2]]\n"
     ]
    },
    {
     "data": {
      "text/plain": [
       "array([[[ 0,  1,  2,  3],\n",
       "        [ 5,  6,  7,  8],\n",
       "        [10, 11, 12, 13]],\n",
       "\n",
       "       [[12, 13, 14, 15],\n",
       "        [17, 18, 19, 20],\n",
       "        [22, 23, 24, 25]]])"
      ]
     },
     "execution_count": 59,
     "metadata": {},
     "output_type": "execute_result"
    }
   ],
   "source": [
    "a = np.arange(24).reshape(2,3,4)\n",
    "b = np.arange(3).reshape(3,1)    #(3,1) --> (1,3,1) --> (2,3,4), 1이 다른 shape과 일치하도록 늘어난다.\n",
    "print(a)\n",
    "print(b)\n",
    "a + b"
   ]
  },
  {
   "cell_type": "code",
   "execution_count": 60,
   "id": "383f3ecf-3456-4b04-ad12-d557e6210ad0",
   "metadata": {},
   "outputs": [
    {
     "ename": "ValueError",
     "evalue": "operands could not be broadcast together with shapes (2,3,1) (2,3) ",
     "output_type": "error",
     "traceback": [
      "\u001b[0;31m---------------------------------------------------------------------------\u001b[0m",
      "\u001b[0;31mValueError\u001b[0m                                Traceback (most recent call last)",
      "Cell \u001b[0;32mIn[60], line 3\u001b[0m\n\u001b[1;32m      1\u001b[0m d \u001b[38;5;241m=\u001b[39m np\u001b[38;5;241m.\u001b[39marange(\u001b[38;5;241m6\u001b[39m)\u001b[38;5;241m.\u001b[39mreshape(\u001b[38;5;241m2\u001b[39m,\u001b[38;5;241m3\u001b[39m,\u001b[38;5;241m1\u001b[39m)\n\u001b[1;32m      2\u001b[0m e \u001b[38;5;241m=\u001b[39m np\u001b[38;5;241m.\u001b[39marange(\u001b[38;5;241m6\u001b[39m)\u001b[38;5;241m.\u001b[39mreshape(\u001b[38;5;241m2\u001b[39m,\u001b[38;5;241m3\u001b[39m)    \u001b[38;5;66;03m#(2,3) --> (1,2,3) --> (2,2,3), 차원의 크기가 일치하지 않음\u001b[39;00m\n\u001b[0;32m----> 3\u001b[0m d\u001b[38;5;241m+\u001b[39me\n",
      "\u001b[0;31mValueError\u001b[0m: operands could not be broadcast together with shapes (2,3,1) (2,3) "
     ]
    }
   ],
   "source": [
    "a = np.arange(6).reshape(2,3,1)\n",
    "b = np.arange(6).reshape(2,3)    #(2,3) --> (1,2,3) --> (2,2,3), 차원의 크기가 일치하지 않음\n",
    "#a+b"
   ]
  },
  {
   "cell_type": "code",
   "execution_count": 61,
   "id": "dd74cb2f-45b8-4aca-b07c-5b0977dea5a0",
   "metadata": {},
   "outputs": [
    {
     "data": {
      "text/plain": [
       "array([[[ 0,  1],\n",
       "        [ 3,  4],\n",
       "        [ 6,  7]],\n",
       "\n",
       "       [[ 3,  4],\n",
       "        [ 6,  7],\n",
       "        [ 9, 10]]])"
      ]
     },
     "execution_count": 61,
     "metadata": {},
     "output_type": "execute_result"
    }
   ],
   "source": [
    "a = np.arange(6).reshape(2,3,1)  #(2,3,1) --> (2,3,2)\n",
    "b = np.arange(6).reshape(3,2)    #(3,2) --> (1,3,2) --> (2,3,2)\n",
    "a+b"
   ]
  },
  {
   "cell_type": "markdown",
   "id": "7757889b-152a-42c5-a09e-e2151ccd35da",
   "metadata": {},
   "source": [
    "# 인덱싱, 슬라이싱"
   ]
  },
  {
   "cell_type": "code",
   "execution_count": 71,
   "id": "f4dab717-e671-4aaa-92ff-4a7c6e373d26",
   "metadata": {},
   "outputs": [
    {
     "name": "stdout",
     "output_type": "stream",
     "text": [
      "[[ 0  1  2  3]\n",
      " [ 4  5  6  7]\n",
      " [ 8  9 10 11]]\n",
      "[4 5 6 7]\n",
      "11\n",
      "[[99 99]\n",
      " [ 5  6]]\n",
      "[[ 0 99 99  3]\n",
      " [ 4  5  6  7]\n",
      " [ 8  9 10 11]]\n",
      "[[1 1]\n",
      " [5 6]]\n",
      "[[ 0 99 99  3]\n",
      " [ 4  5  6  7]\n",
      " [ 8  9 10 11]]\n"
     ]
    }
   ],
   "source": [
    "a = np.arange(12).reshape(3,4)\n",
    "print(a)\n",
    "\n",
    "print(a[1])\n",
    "print(a[2,3])\n",
    "\n",
    "b = a[0:2, 1:3]\n",
    "b[0] = 99\n",
    "print(b)\n",
    "print(a)    #슬라이싱은 원본의 참조이므로, 원본도 바뀐다. 바꾸지 않으려면 복사를 해야함\n"
   ]
  },
  {
   "cell_type": "code",
   "execution_count": 90,
   "id": "5f8cfa1a-b6e5-478e-811e-5d35c021a19a",
   "metadata": {},
   "outputs": [
    {
     "name": "stdout",
     "output_type": "stream",
     "text": [
      "[3 4 5 6 7]\n",
      "[4 6 7]\n",
      "[4 5 6 7]\n",
      "[23]\n",
      "[ 2 15]\n",
      "[ 7 26]\n"
     ]
    }
   ],
   "source": [
    "a = np.arange(3,8)\n",
    "print(a)\n",
    "\n",
    "print(a[[1,3,4]])    #a의 인덱스를 리스트로 만듦\n",
    "print(a[a>3])\n",
    "\n",
    "a = np.arange(30).reshape(5,6)\n",
    "print(a[[3],[5]])\n",
    "print(a[[0,2],[2,3]])\n",
    "\n",
    "b = np.arange(30).reshape(2,5,3)\n",
    "print(b[[0,1],[2,3],[1,2]])\n"
   ]
  },
  {
   "cell_type": "markdown",
   "id": "6a026403-24bb-4483-aa01-8dc3c196f807",
   "metadata": {},
   "source": [
    "# 병합과 분리"
   ]
  },
  {
   "cell_type": "code",
   "execution_count": 98,
   "id": "84548a2a-e2ce-4575-9cbe-f41b87f20564",
   "metadata": {},
   "outputs": [
    {
     "name": "stdout",
     "output_type": "stream",
     "text": [
      "[[ 0  1]\n",
      " [ 2  3]\n",
      " [10 11]\n",
      " [12 13]]\n",
      "[[ 0  1 10 11]\n",
      " [ 2  3 12 13]]\n",
      "\n",
      "[[[ 0  1  2]\n",
      "  [ 3  4  5]]\n",
      "\n",
      " [[ 6  7  8]\n",
      "  [ 9 10 11]]\n",
      "\n",
      " [[10 11 12]\n",
      "  [13 14 15]]\n",
      "\n",
      " [[16 17 18]\n",
      "  [19 20 21]]]\n",
      "[[[ 0  1  2]\n",
      "  [ 3  4  5]\n",
      "  [10 11 12]\n",
      "  [13 14 15]]\n",
      "\n",
      " [[ 6  7  8]\n",
      "  [ 9 10 11]\n",
      "  [16 17 18]\n",
      "  [19 20 21]]]\n",
      "\n",
      "[[ 0  1]\n",
      " [ 2  3]\n",
      " [10 11]\n",
      " [12 13]]\n",
      "[[ 0  1 10 11]\n",
      " [ 2  3 12 13]]\n"
     ]
    }
   ],
   "source": [
    "a = np.arange(4).reshape(2,2)\n",
    "b = np.arange(10,14).reshape(2,2)\n",
    "\n",
    "print(np.vstack((a,b)))   #수직으로 길어짐\n",
    "print(np.hstack((a,b)))    #수평으로 길어짐\n",
    "print() \n",
    "\n",
    "c = np.arange(12).reshape(2,2,3)\n",
    "d = np.arange(10,22).reshape(2,2,3)\n",
    "print(np.vstack((c,d)))\n",
    "print(np.hstack((c,d)))\n",
    "print()\n",
    "\n",
    "print(np.concatenate((a,b), 0))    #수직으로\n",
    "print(np.concatenate((a,b), 1))    #수평으로"
   ]
  },
  {
   "cell_type": "code",
   "execution_count": 109,
   "id": "70bd0b64-bbf0-4870-9c92-87f2c32925f3",
   "metadata": {},
   "outputs": [
    {
     "name": "stdout",
     "output_type": "stream",
     "text": [
      "[array([0, 1, 2, 3]), array([4, 5, 6, 7]), array([ 8,  9, 10, 11])]\n",
      "[array([0, 1, 2, 3]), array([4, 5, 6, 7]), array([ 8,  9, 10, 11])]\n",
      "[[ 0  1  2]\n",
      " [ 3  4  5]\n",
      " [ 6  7  8]\n",
      " [ 9 10 11]]\n",
      "[array([[0, 1, 2],\n",
      "       [3, 4, 5]]), array([[ 6,  7,  8],\n",
      "       [ 9, 10, 11]])]\n"
     ]
    },
    {
     "data": {
      "text/plain": [
       "array([[ 0,  1,  2],\n",
       "       [ 3,  4,  5],\n",
       "       [ 6,  7,  8],\n",
       "       [ 9, 10, 11]])"
      ]
     },
     "execution_count": 109,
     "metadata": {},
     "output_type": "execute_result"
    }
   ],
   "source": [
    "a = np.arange(12)\n",
    "print(np.hsplit(a,3))    #수직으로 분리\n",
    "\n",
    "b = np.arange(12).reshape(4,3)\n",
    "print(b)\n",
    "print(np.vsplit(b,2))    #수평으로 분리"
   ]
  },
  {
   "cell_type": "code",
   "execution_count": null,
   "id": "2c10ae52-6c68-495e-ac21-4a5bccb76f49",
   "metadata": {},
   "outputs": [],
   "source": []
  },
  {
   "cell_type": "code",
   "execution_count": null,
   "id": "31493a45-e03e-4506-999c-5e8f0525a932",
   "metadata": {},
   "outputs": [],
   "source": []
  }
 ],
 "metadata": {
  "kernelspec": {
   "display_name": "Python 3 (ipykernel)",
   "language": "python",
   "name": "python3"
  },
  "language_info": {
   "codemirror_mode": {
    "name": "ipython",
    "version": 3
   },
   "file_extension": ".py",
   "mimetype": "text/x-python",
   "name": "python",
   "nbconvert_exporter": "python",
   "pygments_lexer": "ipython3",
   "version": "3.11.8"
  }
 },
 "nbformat": 4,
 "nbformat_minor": 5
}
